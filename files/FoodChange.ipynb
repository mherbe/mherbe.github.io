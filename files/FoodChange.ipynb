{
 "cells": [
  {
   "cell_type": "markdown",
   "metadata": {},
   "source": [
    "Background: After we cleaned the data and tried to visualize it in Tableau we realized that the data was not in the correct datatype and that the data was not tidy. We decided to use python to change datatype and split by comma.\n",
    "\n",
    "Dataset: https://www.kaggle.com/datasets/pes12017000148/food-ingredients-and-recipe-dataset-with-images "
   ]
  },
  {
   "cell_type": "markdown",
   "metadata": {},
   "source": [
    "Step 1: Delete columns that were not needed for our analysis including instructions, image_name, and cleaned_ingredients"
   ]
  },
  {
   "cell_type": "markdown",
   "metadata": {},
   "source": [
    "Step 2: Change the \"Title\" column to \"Meal Name\""
   ]
  },
  {
   "cell_type": "markdown",
   "metadata": {},
   "source": [
    "Step 3: Use IF function to find our 10 herbs from the ingredients column.\n",
    "\n",
    "=TEXTJOIN(\",\", TRUE, IF(ISNUMBER(SEARCH({\"parsley\",\"cilantro\",\"mint\",\"basil\",\"oregano\",\"dill\",\"scallion\",\"rosemary\",\"sage\",\"thyme\"}, C2)), PROPER({\"parsley\",\"cilantro\",\"mint\",\"basil\",\"oregano\",\"dill\",\"scallion\",\"rosemary\",\"sage\",\"thyme\"}), \"\"))\n",
    "\n",
    "Double tap corner to apply function to all 13,000 rows"
   ]
  },
  {
   "cell_type": "markdown",
   "metadata": {},
   "source": [
    "Step 4: Copy IF function column to new column using paste values only. Delete the 2 previous columns and paste new column with only our 10 herbs into Ingredients column"
   ]
  },
  {
   "cell_type": "code",
   "execution_count": 3,
   "metadata": {},
   "outputs": [],
   "source": [
    "import pandas as pd\n",
    "\n",
    "# Title CSV to meal and read it. Put into dataframe\n",
    "df = pd.read_csv('meal.csv')\n"
   ]
  },
  {
   "cell_type": "code",
   "execution_count": 4,
   "metadata": {},
   "outputs": [
    {
     "data": {
      "text/html": [
       "<div>\n",
       "<style scoped>\n",
       "    .dataframe tbody tr th:only-of-type {\n",
       "        vertical-align: middle;\n",
       "    }\n",
       "\n",
       "    .dataframe tbody tr th {\n",
       "        vertical-align: top;\n",
       "    }\n",
       "\n",
       "    .dataframe thead th {\n",
       "        text-align: right;\n",
       "    }\n",
       "</style>\n",
       "<table border=\"1\" class=\"dataframe\">\n",
       "  <thead>\n",
       "    <tr style=\"text-align: right;\">\n",
       "      <th></th>\n",
       "      <th>Meal Name</th>\n",
       "      <th>Ingredients</th>\n",
       "    </tr>\n",
       "  </thead>\n",
       "  <tbody>\n",
       "    <tr>\n",
       "      <th>0</th>\n",
       "      <td>Crispy Salt and Pepper Potatoes</td>\n",
       "      <td>Parsley,Rosemary,Thyme</td>\n",
       "    </tr>\n",
       "    <tr>\n",
       "      <th>1</th>\n",
       "      <td>Italian Sausage and Bread Stuffing</td>\n",
       "      <td>Parsley,Sage</td>\n",
       "    </tr>\n",
       "    <tr>\n",
       "      <th>2</th>\n",
       "      <td>Instant Pot Lamb Haleem</td>\n",
       "      <td>Cilantro</td>\n",
       "    </tr>\n",
       "    <tr>\n",
       "      <th>3</th>\n",
       "      <td>Spiced Lentil and Caramelized Onion Baked Eggs</td>\n",
       "      <td>Parsley</td>\n",
       "    </tr>\n",
       "    <tr>\n",
       "      <th>4</th>\n",
       "      <td>Chicken and Rice With Leeks and Salsa Verde</td>\n",
       "      <td>Cilantro,Mint,Parsley</td>\n",
       "    </tr>\n",
       "  </tbody>\n",
       "</table>\n",
       "</div>"
      ],
      "text/plain": [
       "                                        Meal Name             Ingredients\n",
       "0                 Crispy Salt and Pepper Potatoes  Parsley,Rosemary,Thyme\n",
       "1              Italian Sausage and Bread Stuffing            Parsley,Sage\n",
       "2                         Instant Pot Lamb Haleem                Cilantro\n",
       "3  Spiced Lentil and Caramelized Onion Baked Eggs                 Parsley\n",
       "4     Chicken and Rice With Leeks and Salsa Verde   Cilantro,Mint,Parsley"
      ]
     },
     "execution_count": 4,
     "metadata": {},
     "output_type": "execute_result"
    }
   ],
   "source": [
    "df.head(5) #top 5 rows of the dataframe\n"
   ]
  },
  {
   "cell_type": "code",
   "execution_count": 5,
   "metadata": {},
   "outputs": [
    {
     "name": "stdout",
     "output_type": "stream",
     "text": [
      "Current data type: object\n"
     ]
    }
   ],
   "source": [
    "current_data_type = df['Ingredients'].dtype \n",
    "print(\"Current data type:\", current_data_type)\n"
   ]
  },
  {
   "cell_type": "code",
   "execution_count": 6,
   "metadata": {},
   "outputs": [],
   "source": [
    "# Convert the data type of the column to a new data type\n",
    "df['Ingredients'] = df['Ingredients'].astype('string')\n"
   ]
  },
  {
   "cell_type": "code",
   "execution_count": 7,
   "metadata": {},
   "outputs": [
    {
     "name": "stdout",
     "output_type": "stream",
     "text": [
      "New data type: string\n"
     ]
    }
   ],
   "source": [
    "print(\"New data type:\", df['Ingredients'].dtype)"
   ]
  },
  {
   "cell_type": "code",
   "execution_count": 8,
   "metadata": {},
   "outputs": [
    {
     "name": "stdout",
     "output_type": "stream",
     "text": [
      "Current data type: object\n"
     ]
    }
   ],
   "source": [
    "current_data_type = df['Meal Name'].dtype\n",
    "print(\"Current data type:\", current_data_type)"
   ]
  },
  {
   "cell_type": "code",
   "execution_count": 9,
   "metadata": {},
   "outputs": [],
   "source": [
    "df['Meal Name'] = df['Meal Name'].astype('string')"
   ]
  },
  {
   "cell_type": "code",
   "execution_count": 10,
   "metadata": {},
   "outputs": [
    {
     "name": "stdout",
     "output_type": "stream",
     "text": [
      "Current data type: string\n"
     ]
    }
   ],
   "source": [
    "current_data_type = df['Meal Name'].dtype\n",
    "print(\"Current data type:\", current_data_type)"
   ]
  },
  {
   "cell_type": "code",
   "execution_count": 11,
   "metadata": {},
   "outputs": [
    {
     "data": {
      "text/html": [
       "<div>\n",
       "<style scoped>\n",
       "    .dataframe tbody tr th:only-of-type {\n",
       "        vertical-align: middle;\n",
       "    }\n",
       "\n",
       "    .dataframe tbody tr th {\n",
       "        vertical-align: top;\n",
       "    }\n",
       "\n",
       "    .dataframe thead th {\n",
       "        text-align: right;\n",
       "    }\n",
       "</style>\n",
       "<table border=\"1\" class=\"dataframe\">\n",
       "  <thead>\n",
       "    <tr style=\"text-align: right;\">\n",
       "      <th></th>\n",
       "      <th>Meal Name</th>\n",
       "      <th>Ingredients</th>\n",
       "    </tr>\n",
       "  </thead>\n",
       "  <tbody>\n",
       "    <tr>\n",
       "      <th>0</th>\n",
       "      <td>Crispy Salt and Pepper Potatoes</td>\n",
       "      <td>Parsley,Rosemary,Thyme</td>\n",
       "    </tr>\n",
       "    <tr>\n",
       "      <th>1</th>\n",
       "      <td>Italian Sausage and Bread Stuffing</td>\n",
       "      <td>Parsley,Sage</td>\n",
       "    </tr>\n",
       "    <tr>\n",
       "      <th>2</th>\n",
       "      <td>Instant Pot Lamb Haleem</td>\n",
       "      <td>Cilantro</td>\n",
       "    </tr>\n",
       "    <tr>\n",
       "      <th>3</th>\n",
       "      <td>Spiced Lentil and Caramelized Onion Baked Eggs</td>\n",
       "      <td>Parsley</td>\n",
       "    </tr>\n",
       "    <tr>\n",
       "      <th>4</th>\n",
       "      <td>Chicken and Rice With Leeks and Salsa Verde</td>\n",
       "      <td>Cilantro,Mint,Parsley</td>\n",
       "    </tr>\n",
       "  </tbody>\n",
       "</table>\n",
       "</div>"
      ],
      "text/plain": [
       "                                        Meal Name             Ingredients\n",
       "0                 Crispy Salt and Pepper Potatoes  Parsley,Rosemary,Thyme\n",
       "1              Italian Sausage and Bread Stuffing            Parsley,Sage\n",
       "2                         Instant Pot Lamb Haleem                Cilantro\n",
       "3  Spiced Lentil and Caramelized Onion Baked Eggs                 Parsley\n",
       "4     Chicken and Rice With Leeks and Salsa Verde   Cilantro,Mint,Parsley"
      ]
     },
     "execution_count": 11,
     "metadata": {},
     "output_type": "execute_result"
    }
   ],
   "source": [
    "df.head(5)"
   ]
  },
  {
   "cell_type": "code",
   "execution_count": 12,
   "metadata": {},
   "outputs": [],
   "source": [
    "data=df"
   ]
  },
  {
   "cell_type": "code",
   "execution_count": 13,
   "metadata": {},
   "outputs": [
    {
     "name": "stdout",
     "output_type": "stream",
     "text": [
      "                                              Meal Name  \\\n",
      "0                       Crispy Salt and Pepper Potatoes   \n",
      "1                    Italian Sausage and Bread Stuffing   \n",
      "2                               Instant Pot Lamb Haleem   \n",
      "3        Spiced Lentil and Caramelized Onion Baked Eggs   \n",
      "4           Chicken and Rice With Leeks and Salsa Verde   \n",
      "...                                                 ...   \n",
      "3398  Veal and Tomato Ragoût with Potatoes, Cinnamon...   \n",
      "3399     Whole Stuffed Artichokes Braised in White Wine   \n",
      "3400              Chestnut, Onion, and Currant Stuffing   \n",
      "3401  Israeli Couscous with Roasted Butternut Squash...   \n",
      "3402  Mexican Poblano, Spinach, and Black Bean \"Lasa...   \n",
      "\n",
      "                 Ingredients Ingredient_1 Ingredient_2 Ingredient_3  \\\n",
      "0     Parsley,Rosemary,Thyme      Parsley     Rosemary        Thyme   \n",
      "1               Parsley,Sage      Parsley         Sage         <NA>   \n",
      "2                   Cilantro     Cilantro         <NA>         <NA>   \n",
      "3                    Parsley      Parsley         <NA>         <NA>   \n",
      "4      Cilantro,Mint,Parsley     Cilantro         Mint      Parsley   \n",
      "...                      ...          ...          ...          ...   \n",
      "3398                 Parsley      Parsley         <NA>         <NA>   \n",
      "3399            Parsley,Sage      Parsley         Sage         <NA>   \n",
      "3400      Parsley,Sage,Thyme      Parsley         Sage        Thyme   \n",
      "3401                 Parsley      Parsley         <NA>         <NA>   \n",
      "3402                Cilantro     Cilantro         <NA>         <NA>   \n",
      "\n",
      "     Ingredient_4 Ingredient_5 Ingredient_6 Ingredient_7 Ingredient_8  \n",
      "0            <NA>         <NA>         <NA>         <NA>         <NA>  \n",
      "1            <NA>         <NA>         <NA>         <NA>         <NA>  \n",
      "2            <NA>         <NA>         <NA>         <NA>         <NA>  \n",
      "3            <NA>         <NA>         <NA>         <NA>         <NA>  \n",
      "4            <NA>         <NA>         <NA>         <NA>         <NA>  \n",
      "...           ...          ...          ...          ...          ...  \n",
      "3398         <NA>         <NA>         <NA>         <NA>         <NA>  \n",
      "3399         <NA>         <NA>         <NA>         <NA>         <NA>  \n",
      "3400         <NA>         <NA>         <NA>         <NA>         <NA>  \n",
      "3401         <NA>         <NA>         <NA>         <NA>         <NA>  \n",
      "3402         <NA>         <NA>         <NA>         <NA>         <NA>  \n",
      "\n",
      "[3403 rows x 10 columns]\n"
     ]
    }
   ],
   "source": [
    "# Split 'ingredients' column by comma delimiter into multiple columns\n",
    "df_ingredients = df['Ingredients'].str.split(',', expand=True)\n",
    "\n",
    "# Rename the new columns\n",
    "new_columns = [f'Ingredient_{i+1}' for i in range(df_ingredients.shape[1])]\n",
    "df_ingredients.columns = new_columns\n",
    "\n",
    "# Concatenate the original DataFrame with the split columns\n",
    "df_combined = pd.concat([df, df_ingredients], axis=1)\n",
    "\n",
    "# Display the combined DataFrame\n",
    "print(df_combined)\n"
   ]
  },
  {
   "cell_type": "code",
   "execution_count": 14,
   "metadata": {},
   "outputs": [
    {
     "data": {
      "text/html": [
       "<div>\n",
       "<style scoped>\n",
       "    .dataframe tbody tr th:only-of-type {\n",
       "        vertical-align: middle;\n",
       "    }\n",
       "\n",
       "    .dataframe tbody tr th {\n",
       "        vertical-align: top;\n",
       "    }\n",
       "\n",
       "    .dataframe thead th {\n",
       "        text-align: right;\n",
       "    }\n",
       "</style>\n",
       "<table border=\"1\" class=\"dataframe\">\n",
       "  <thead>\n",
       "    <tr style=\"text-align: right;\">\n",
       "      <th></th>\n",
       "      <th>Meal Name</th>\n",
       "      <th>Ingredients</th>\n",
       "      <th>Ingredient_1</th>\n",
       "      <th>Ingredient_2</th>\n",
       "      <th>Ingredient_3</th>\n",
       "      <th>Ingredient_4</th>\n",
       "      <th>Ingredient_5</th>\n",
       "      <th>Ingredient_6</th>\n",
       "      <th>Ingredient_7</th>\n",
       "      <th>Ingredient_8</th>\n",
       "    </tr>\n",
       "  </thead>\n",
       "  <tbody>\n",
       "    <tr>\n",
       "      <th>0</th>\n",
       "      <td>Crispy Salt and Pepper Potatoes</td>\n",
       "      <td>Parsley,Rosemary,Thyme</td>\n",
       "      <td>Parsley</td>\n",
       "      <td>Rosemary</td>\n",
       "      <td>Thyme</td>\n",
       "      <td>&lt;NA&gt;</td>\n",
       "      <td>&lt;NA&gt;</td>\n",
       "      <td>&lt;NA&gt;</td>\n",
       "      <td>&lt;NA&gt;</td>\n",
       "      <td>&lt;NA&gt;</td>\n",
       "    </tr>\n",
       "    <tr>\n",
       "      <th>1</th>\n",
       "      <td>Italian Sausage and Bread Stuffing</td>\n",
       "      <td>Parsley,Sage</td>\n",
       "      <td>Parsley</td>\n",
       "      <td>Sage</td>\n",
       "      <td>&lt;NA&gt;</td>\n",
       "      <td>&lt;NA&gt;</td>\n",
       "      <td>&lt;NA&gt;</td>\n",
       "      <td>&lt;NA&gt;</td>\n",
       "      <td>&lt;NA&gt;</td>\n",
       "      <td>&lt;NA&gt;</td>\n",
       "    </tr>\n",
       "    <tr>\n",
       "      <th>2</th>\n",
       "      <td>Instant Pot Lamb Haleem</td>\n",
       "      <td>Cilantro</td>\n",
       "      <td>Cilantro</td>\n",
       "      <td>&lt;NA&gt;</td>\n",
       "      <td>&lt;NA&gt;</td>\n",
       "      <td>&lt;NA&gt;</td>\n",
       "      <td>&lt;NA&gt;</td>\n",
       "      <td>&lt;NA&gt;</td>\n",
       "      <td>&lt;NA&gt;</td>\n",
       "      <td>&lt;NA&gt;</td>\n",
       "    </tr>\n",
       "    <tr>\n",
       "      <th>3</th>\n",
       "      <td>Spiced Lentil and Caramelized Onion Baked Eggs</td>\n",
       "      <td>Parsley</td>\n",
       "      <td>Parsley</td>\n",
       "      <td>&lt;NA&gt;</td>\n",
       "      <td>&lt;NA&gt;</td>\n",
       "      <td>&lt;NA&gt;</td>\n",
       "      <td>&lt;NA&gt;</td>\n",
       "      <td>&lt;NA&gt;</td>\n",
       "      <td>&lt;NA&gt;</td>\n",
       "      <td>&lt;NA&gt;</td>\n",
       "    </tr>\n",
       "    <tr>\n",
       "      <th>4</th>\n",
       "      <td>Chicken and Rice With Leeks and Salsa Verde</td>\n",
       "      <td>Cilantro,Mint,Parsley</td>\n",
       "      <td>Cilantro</td>\n",
       "      <td>Mint</td>\n",
       "      <td>Parsley</td>\n",
       "      <td>&lt;NA&gt;</td>\n",
       "      <td>&lt;NA&gt;</td>\n",
       "      <td>&lt;NA&gt;</td>\n",
       "      <td>&lt;NA&gt;</td>\n",
       "      <td>&lt;NA&gt;</td>\n",
       "    </tr>\n",
       "  </tbody>\n",
       "</table>\n",
       "</div>"
      ],
      "text/plain": [
       "                                        Meal Name             Ingredients  \\\n",
       "0                 Crispy Salt and Pepper Potatoes  Parsley,Rosemary,Thyme   \n",
       "1              Italian Sausage and Bread Stuffing            Parsley,Sage   \n",
       "2                         Instant Pot Lamb Haleem                Cilantro   \n",
       "3  Spiced Lentil and Caramelized Onion Baked Eggs                 Parsley   \n",
       "4     Chicken and Rice With Leeks and Salsa Verde   Cilantro,Mint,Parsley   \n",
       "\n",
       "  Ingredient_1 Ingredient_2 Ingredient_3 Ingredient_4 Ingredient_5  \\\n",
       "0      Parsley     Rosemary        Thyme         <NA>         <NA>   \n",
       "1      Parsley         Sage         <NA>         <NA>         <NA>   \n",
       "2     Cilantro         <NA>         <NA>         <NA>         <NA>   \n",
       "3      Parsley         <NA>         <NA>         <NA>         <NA>   \n",
       "4     Cilantro         Mint      Parsley         <NA>         <NA>   \n",
       "\n",
       "  Ingredient_6 Ingredient_7 Ingredient_8  \n",
       "0         <NA>         <NA>         <NA>  \n",
       "1         <NA>         <NA>         <NA>  \n",
       "2         <NA>         <NA>         <NA>  \n",
       "3         <NA>         <NA>         <NA>  \n",
       "4         <NA>         <NA>         <NA>  "
      ]
     },
     "execution_count": 14,
     "metadata": {},
     "output_type": "execute_result"
    }
   ],
   "source": [
    "df_combined.head()"
   ]
  },
  {
   "cell_type": "code",
   "execution_count": 15,
   "metadata": {},
   "outputs": [],
   "source": [
    "df_combined.drop(['Ingredients'], axis=1, inplace=True) #dropping the 'Ingredients' column"
   ]
  },
  {
   "cell_type": "code",
   "execution_count": 16,
   "metadata": {},
   "outputs": [
    {
     "data": {
      "text/html": [
       "<div>\n",
       "<style scoped>\n",
       "    .dataframe tbody tr th:only-of-type {\n",
       "        vertical-align: middle;\n",
       "    }\n",
       "\n",
       "    .dataframe tbody tr th {\n",
       "        vertical-align: top;\n",
       "    }\n",
       "\n",
       "    .dataframe thead th {\n",
       "        text-align: right;\n",
       "    }\n",
       "</style>\n",
       "<table border=\"1\" class=\"dataframe\">\n",
       "  <thead>\n",
       "    <tr style=\"text-align: right;\">\n",
       "      <th></th>\n",
       "      <th>Meal Name</th>\n",
       "      <th>Ingredient_1</th>\n",
       "      <th>Ingredient_2</th>\n",
       "      <th>Ingredient_3</th>\n",
       "      <th>Ingredient_4</th>\n",
       "      <th>Ingredient_5</th>\n",
       "      <th>Ingredient_6</th>\n",
       "      <th>Ingredient_7</th>\n",
       "      <th>Ingredient_8</th>\n",
       "    </tr>\n",
       "  </thead>\n",
       "  <tbody>\n",
       "    <tr>\n",
       "      <th>0</th>\n",
       "      <td>Crispy Salt and Pepper Potatoes</td>\n",
       "      <td>Parsley</td>\n",
       "      <td>Rosemary</td>\n",
       "      <td>Thyme</td>\n",
       "      <td>&lt;NA&gt;</td>\n",
       "      <td>&lt;NA&gt;</td>\n",
       "      <td>&lt;NA&gt;</td>\n",
       "      <td>&lt;NA&gt;</td>\n",
       "      <td>&lt;NA&gt;</td>\n",
       "    </tr>\n",
       "    <tr>\n",
       "      <th>1</th>\n",
       "      <td>Italian Sausage and Bread Stuffing</td>\n",
       "      <td>Parsley</td>\n",
       "      <td>Sage</td>\n",
       "      <td>&lt;NA&gt;</td>\n",
       "      <td>&lt;NA&gt;</td>\n",
       "      <td>&lt;NA&gt;</td>\n",
       "      <td>&lt;NA&gt;</td>\n",
       "      <td>&lt;NA&gt;</td>\n",
       "      <td>&lt;NA&gt;</td>\n",
       "    </tr>\n",
       "    <tr>\n",
       "      <th>2</th>\n",
       "      <td>Instant Pot Lamb Haleem</td>\n",
       "      <td>Cilantro</td>\n",
       "      <td>&lt;NA&gt;</td>\n",
       "      <td>&lt;NA&gt;</td>\n",
       "      <td>&lt;NA&gt;</td>\n",
       "      <td>&lt;NA&gt;</td>\n",
       "      <td>&lt;NA&gt;</td>\n",
       "      <td>&lt;NA&gt;</td>\n",
       "      <td>&lt;NA&gt;</td>\n",
       "    </tr>\n",
       "    <tr>\n",
       "      <th>3</th>\n",
       "      <td>Spiced Lentil and Caramelized Onion Baked Eggs</td>\n",
       "      <td>Parsley</td>\n",
       "      <td>&lt;NA&gt;</td>\n",
       "      <td>&lt;NA&gt;</td>\n",
       "      <td>&lt;NA&gt;</td>\n",
       "      <td>&lt;NA&gt;</td>\n",
       "      <td>&lt;NA&gt;</td>\n",
       "      <td>&lt;NA&gt;</td>\n",
       "      <td>&lt;NA&gt;</td>\n",
       "    </tr>\n",
       "    <tr>\n",
       "      <th>4</th>\n",
       "      <td>Chicken and Rice With Leeks and Salsa Verde</td>\n",
       "      <td>Cilantro</td>\n",
       "      <td>Mint</td>\n",
       "      <td>Parsley</td>\n",
       "      <td>&lt;NA&gt;</td>\n",
       "      <td>&lt;NA&gt;</td>\n",
       "      <td>&lt;NA&gt;</td>\n",
       "      <td>&lt;NA&gt;</td>\n",
       "      <td>&lt;NA&gt;</td>\n",
       "    </tr>\n",
       "  </tbody>\n",
       "</table>\n",
       "</div>"
      ],
      "text/plain": [
       "                                        Meal Name Ingredient_1 Ingredient_2  \\\n",
       "0                 Crispy Salt and Pepper Potatoes      Parsley     Rosemary   \n",
       "1              Italian Sausage and Bread Stuffing      Parsley         Sage   \n",
       "2                         Instant Pot Lamb Haleem     Cilantro         <NA>   \n",
       "3  Spiced Lentil and Caramelized Onion Baked Eggs      Parsley         <NA>   \n",
       "4     Chicken and Rice With Leeks and Salsa Verde     Cilantro         Mint   \n",
       "\n",
       "  Ingredient_3 Ingredient_4 Ingredient_5 Ingredient_6 Ingredient_7  \\\n",
       "0        Thyme         <NA>         <NA>         <NA>         <NA>   \n",
       "1         <NA>         <NA>         <NA>         <NA>         <NA>   \n",
       "2         <NA>         <NA>         <NA>         <NA>         <NA>   \n",
       "3         <NA>         <NA>         <NA>         <NA>         <NA>   \n",
       "4      Parsley         <NA>         <NA>         <NA>         <NA>   \n",
       "\n",
       "  Ingredient_8  \n",
       "0         <NA>  \n",
       "1         <NA>  \n",
       "2         <NA>  \n",
       "3         <NA>  \n",
       "4         <NA>  "
      ]
     },
     "execution_count": 16,
     "metadata": {},
     "output_type": "execute_result"
    }
   ],
   "source": [
    "df_combined.head() #checking the output"
   ]
  },
  {
   "cell_type": "code",
   "execution_count": 17,
   "metadata": {},
   "outputs": [],
   "source": [
    "df_combined.to_csv('meal_ingredients.csv', index=False) #export df_combined to csv"
   ]
  }
 ],
 "metadata": {
  "kernelspec": {
   "display_name": "Python 3",
   "language": "python",
   "name": "python3"
  },
  "language_info": {
   "codemirror_mode": {
    "name": "ipython",
    "version": 3
   },
   "file_extension": ".py",
   "mimetype": "text/x-python",
   "name": "python",
   "nbconvert_exporter": "python",
   "pygments_lexer": "ipython3",
   "version": "3.9.6"
  }
 },
 "nbformat": 4,
 "nbformat_minor": 2
}
